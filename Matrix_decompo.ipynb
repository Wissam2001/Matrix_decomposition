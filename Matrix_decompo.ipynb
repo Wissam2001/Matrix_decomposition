{
 "cells": [
  {
   "cell_type": "code",
   "execution_count": 155,
   "metadata": {},
   "outputs": [],
   "source": [
    "import numpy as np\n",
    "from scipy.linalg import lu"
   ]
  },
  {
   "cell_type": "markdown",
   "metadata": {},
   "source": [
    "'''LU works with square matrix only'''\n"
   ]
  },
  {
   "cell_type": "code",
   "execution_count": 129,
   "metadata": {},
   "outputs": [],
   "source": [
    "#the example of the exercise of TD\n",
    "t = np.array([[3.0,4.0],\n",
    "             [0.0,5.0]])"
   ]
  },
  {
   "cell_type": "code",
   "execution_count": 146,
   "metadata": {},
   "outputs": [],
   "source": [
    "def LU(A):\n",
    "    n = A.shape[0]\n",
    "    U = A.copy()\n",
    "    L = np.eye(n)\n",
    "    \n",
    "    for i in range (n):\n",
    "        x = U[i,i]\n",
    "        for j in range (i+1,n):\n",
    "            \n",
    "            L[j,i]  = U[j,i] / x\n",
    "            \n",
    "            U[j,:] -=  L[j,i] * U[i,:]\n",
    "            \n",
    "    return L,U\n",
    "      "
   ]
  },
  {
   "cell_type": "code",
   "execution_count": 148,
   "metadata": {},
   "outputs": [
    {
     "name": "stdout",
     "output_type": "stream",
     "text": [
      "[[2. 1.]\n",
      " [6. 7.]] \n",
      "\n",
      "L matrix is:\n",
      " [[1. 0.]\n",
      " [3. 1.]] \n",
      "\n",
      "U matrix is:\n",
      " [[2. 1.]\n",
      " [0. 4.]] \n",
      "\n",
      "[[2. 1.]\n",
      " [6. 7.]]\n"
     ]
    }
   ],
   "source": [
    "m = np.array([[2.0,1.0],\n",
    "              [6.0,7.0]])\n",
    "print(m,\"\\n\")\n",
    "l, u = LU(m)\n",
    "print(\"L matrix is:\\n\", l , \"\\n\\nU matrix is:\\n\", u, \"\\n\")\n",
    "print(l @ u)"
   ]
  },
  {
   "cell_type": "code",
   "execution_count": 89,
   "metadata": {},
   "outputs": [],
   "source": [
    "from sympy import symbols, solve,Eq\n",
    "import numpy.linalg as LA"
   ]
  },
  {
   "cell_type": "code",
   "execution_count": 130,
   "metadata": {},
   "outputs": [
    {
     "data": {
      "text/plain": [
       "array([[ 9., 12.],\n",
       "       [12., 41.]])"
      ]
     },
     "execution_count": 130,
     "metadata": {},
     "output_type": "execute_result"
    }
   ],
   "source": [
    "#for calculating the eigen values and vectors , we should count t.T @ t\n",
    "T = t.T @ t\n",
    "T"
   ]
  },
  {
   "cell_type": "code",
   "execution_count": 131,
   "metadata": {},
   "outputs": [
    {
     "data": {
      "text/plain": [
       "array([6.70820393, 2.23606798])"
      ]
     },
     "execution_count": 131,
     "metadata": {},
     "output_type": "execute_result"
    }
   ],
   "source": [
    "#eigvalues are det(A.T @ A -lamI)=0\n",
    "#eigvec (A.T@A -lamI) V = 0\n",
    "eigvals,eigvecs = LA.eigh(T)\n",
    "eigvals = np.sqrt(np.flipud(eigvals))\n",
    "eigvals"
   ]
  },
  {
   "cell_type": "code",
   "execution_count": 132,
   "metadata": {
    "scrolled": false
   },
   "outputs": [
    {
     "data": {
      "text/plain": [
       "array([[-0.9486833 ,  0.31622777],\n",
       "       [ 0.31622777,  0.9486833 ]])"
      ]
     },
     "execution_count": 132,
     "metadata": {},
     "output_type": "execute_result"
    }
   ],
   "source": [
    "#each column represent an eigenvector\n",
    "eigvecs"
   ]
  },
  {
   "cell_type": "code",
   "execution_count": 133,
   "metadata": {},
   "outputs": [
    {
     "data": {
      "text/plain": [
       "array([[ 0.31622777, -0.9486833 ],\n",
       "       [ 0.9486833 ,  0.31622777]])"
      ]
     },
     "execution_count": 133,
     "metadata": {},
     "output_type": "execute_result"
    }
   ],
   "source": [
    "V = (np.flipud(eigvecs)).T\n",
    "V"
   ]
  },
  {
   "cell_type": "code",
   "execution_count": 134,
   "metadata": {},
   "outputs": [
    {
     "data": {
      "text/plain": [
       "array([[ 0.70710678, -0.70710678],\n",
       "       [ 0.70710678,  0.70710678]])"
      ]
     },
     "execution_count": 134,
     "metadata": {},
     "output_type": "execute_result"
    }
   ],
   "source": [
    "n = t.shape[0]\n",
    "U = np.zeros((n,n))\n",
    "U = (1/eigvals) * (t @ V) \n",
    "U"
   ]
  },
  {
   "cell_type": "code",
   "execution_count": 135,
   "metadata": {},
   "outputs": [
    {
     "name": "stdout",
     "output_type": "stream",
     "text": [
      "the U matrix is :\n",
      " [[ 0.70710678 -0.70710678]\n",
      " [ 0.70710678  0.70710678]] \n",
      " \n",
      "the singulvalues are :\n",
      " [6.70820393 2.23606798] \n",
      "\n",
      "the singularvectors are:\n",
      " [[ 0.31622777 -0.9486833 ]\n",
      " [ 0.9486833   0.31622777]] \n",
      "\n"
     ]
    }
   ],
   "source": [
    "print('the U matrix is :\\n',U,'\\n \\nthe singulvalues are :\\n',eigvals,'\\n\\nthe singularvectors are:\\n',V,'\\n')"
   ]
  },
  {
   "cell_type": "code",
   "execution_count": 136,
   "metadata": {},
   "outputs": [
    {
     "data": {
      "text/plain": [
       "array([[3.00000000e+00, 4.00000000e+00],\n",
       "       [2.22044605e-16, 5.00000000e+00]])"
      ]
     },
     "execution_count": 136,
     "metadata": {},
     "output_type": "execute_result"
    }
   ],
   "source": [
    "U @ (eigvals * np.eye(2)) @ V.T"
   ]
  },
  {
   "cell_type": "code",
   "execution_count": 137,
   "metadata": {},
   "outputs": [
    {
     "data": {
      "text/plain": [
       "True"
      ]
     },
     "execution_count": 137,
     "metadata": {},
     "output_type": "execute_result"
    }
   ],
   "source": [
    "np.allclose(t,U @ (eigvals * np.eye(2)) @ V.T)"
   ]
  },
  {
   "cell_type": "code",
   "execution_count": 138,
   "metadata": {},
   "outputs": [],
   "source": [
    "from scipy.linalg import svd\n",
    "from numpy import linalg as LA\n",
    "U,S,Vt = svd(t)"
   ]
  },
  {
   "cell_type": "code",
   "execution_count": 139,
   "metadata": {
    "scrolled": true
   },
   "outputs": [
    {
     "name": "stdout",
     "output_type": "stream",
     "text": [
      "the U matrix is :\n",
      " [[ 0.70710678 -0.70710678]\n",
      " [ 0.70710678  0.70710678]] \n",
      " \n",
      "the eigenvalues are :\n",
      " [6.70820393 2.23606798] \n",
      "\n",
      "the eigenvectors are:\n",
      " [[ 0.31622777  0.9486833 ]\n",
      " [-0.9486833   0.31622777]] \n",
      "\n"
     ]
    }
   ],
   "source": [
    "print('the U matrix is :\\n',U,'\\n \\nthe eigenvalues are :\\n',S,'\\n\\nthe eigenvectors are:\\n',Vt,'\\n')"
   ]
  },
  {
   "cell_type": "code",
   "execution_count": 140,
   "metadata": {},
   "outputs": [
    {
     "data": {
      "text/plain": [
       "array([[3.00000000e+00, 4.00000000e+00],\n",
       "       [2.22044605e-16, 5.00000000e+00]])"
      ]
     },
     "execution_count": 140,
     "metadata": {},
     "output_type": "execute_result"
    }
   ],
   "source": [
    "U[:,:2] @ (S *np.eye(2)) @ Vt"
   ]
  },
  {
   "cell_type": "code",
   "execution_count": 128,
   "metadata": {},
   "outputs": [
    {
     "data": {
      "text/plain": [
       "array([[ 0.37697351, -0.92622404],\n",
       "       [-0.92622404, -0.37697351]])"
      ]
     },
     "execution_count": 128,
     "metadata": {},
     "output_type": "execute_result"
    }
   ],
   "source": [
    "Vt.T"
   ]
  },
  {
   "cell_type": "code",
   "execution_count": null,
   "metadata": {},
   "outputs": [],
   "source": []
  }
 ],
 "metadata": {
  "kernelspec": {
   "display_name": "Python 3 (ipykernel)",
   "language": "python",
   "name": "python3"
  },
  "language_info": {
   "codemirror_mode": {
    "name": "ipython",
    "version": 3
   },
   "file_extension": ".py",
   "mimetype": "text/x-python",
   "name": "python",
   "nbconvert_exporter": "python",
   "pygments_lexer": "ipython3",
   "version": "3.9.16"
  }
 },
 "nbformat": 4,
 "nbformat_minor": 4
}
